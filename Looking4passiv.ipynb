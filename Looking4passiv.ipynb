{
 "cells": [
  {
   "cell_type": "code",
   "execution_count": 29,
   "id": "478f3569",
   "metadata": {},
   "outputs": [],
   "source": [
    "import os\n",
    "import csv"
   ]
  },
  {
   "cell_type": "code",
   "execution_count": 30,
   "id": "9c1b98d4",
   "metadata": {},
   "outputs": [],
   "source": [
    "path1 = './Tagged_id/'\n",
    "filenames1 = os.listdir(path1)"
   ]
  },
  {
   "cell_type": "code",
   "execution_count": 32,
   "id": "e284ba26",
   "metadata": {},
   "outputs": [],
   "source": [
    "for filename1 in filenames1:\n",
    "    with open(path1 + filename1, encoding='utf8') as file:\n",
    "        sentences = []\n",
    "        sent = ''\n",
    "        lines = file.readlines()\n",
    "    \n",
    "        for line in lines:\n",
    "            if line:\n",
    "                if not line[0].isdigit():\n",
    "                    sent = line\n",
    "                if 'obl:agent' in line:\n",
    "                    if sent not in sentences:\n",
    "                        sentences.append(sent)\n",
    "                \n",
    "\n",
    "        with open('passive_book' + str(filenames1.index(filename1)) + '.txt', 'w', encoding='utf8') as f:\n",
    "            for s in sentences:\n",
    "                f.write(s)"
   ]
  },
  {
   "cell_type": "code",
   "execution_count": 33,
   "id": "c3b0a6d3",
   "metadata": {},
   "outputs": [],
   "source": [
    "path2 = './Harry_aligned/ru-id/'\n",
    "filenames2 = os.listdir(path2)"
   ]
  },
  {
   "cell_type": "code",
   "execution_count": 34,
   "id": "09437f1b",
   "metadata": {},
   "outputs": [],
   "source": [
    "path3 = './Harry_aligned/ru-en/'\n",
    "filenames3 = os.listdir(path3)"
   ]
  },
  {
   "cell_type": "code",
   "execution_count": 35,
   "id": "50041ec0",
   "metadata": {},
   "outputs": [],
   "source": [
    "i = 0\n",
    "l = 0\n",
    "cont = []\n",
    "solo = []\n",
    "\n",
    "for filename2 in filenames2:\n",
    "    with open(path2 + filename2, encoding='utf8') as file:\n",
    "        text = file.readlines()\n",
    "        if 'id' in filename2:\n",
    "            ind = []\n",
    "            with open('passive_book' + str(i) + '.txt', encoding='utf') as f:\n",
    "                t = f.readlines()\n",
    "            for s in t:\n",
    "                if s in text:\n",
    "                    m = text.index(s)\n",
    "                    ind.append(text.index(s))\n",
    "                else:\n",
    "                    for line in text:\n",
    "                        for el in line.split('.'):\n",
    "                            if el in s:\n",
    "                                ind.append(text.index(line))\n",
    "                                break\n",
    "                        break\n",
    "                m = ind[-1]\n",
    "                if m != 0 and m != len(text) - 1:\n",
    "                    cont.append([text[m-1].strip() + ' ' + text[m].strip() + ' ' + text[m+1].strip()])\n",
    "                elif m == len(text) -1:\n",
    "                    cont.append([text[m-1].strip() + ' ' + text[m].strip()])\n",
    "                elif m == 0:\n",
    "                    cont.append([text[m].strip() + ' ' + text[m+1].strip()])\n",
    "                solo.append([text[m].strip()])\n",
    "            i += 1\n",
    "        elif 'ru' in filename2:\n",
    "            for j in ind:\n",
    "                if j != 0 and j != len(text) - 1:\n",
    "                    cont[l].append(text[j-1].strip() + ' ' + text[j].strip() + ' ' + text[j+1].strip())\n",
    "                elif j == 0:\n",
    "                    cont[l].append(text[j].strip() + ' ' + text[j+1].strip())\n",
    "                elif j == len(text) - 1:\n",
    "                    cont[l].append(text[j-1].strip() + ' ' + text[j].strip())\n",
    "                solo[l].append(text[j].strip())\n",
    "                with open(path3 + 'book_' + str(i) + '_ru.txt', encoding='utf8') as f1:\n",
    "                    t1 = f1.readlines()\n",
    "                    if text[j] in t1:\n",
    "                        i1 = t1.index(text[j])\n",
    "                    else:\n",
    "                        for line in t1:\n",
    "                            for el in line.split('.'):\n",
    "                                if el in text[j]:\n",
    "                                    i1 = t1.index(line)\n",
    "                                    break\n",
    "                            break\n",
    "                with open(path3 + 'book_' + str(i) + '_en.txt', encoding='utf8') as f2:\n",
    "                    t2 = f2.readlines()\n",
    "                    if i1 != 0 and i1 != len(t2) - 1:\n",
    "                        cont[l].append(t2[i1 - 1].strip() + ' ' + t2[i1].strip() + ' ' + t2[i1 + 1].strip())\n",
    "                    elif i1 == 0:\n",
    "                        cont[l].append(t2[i1].strip() + ' ' + t2[i1 + 1].strip())\n",
    "                    elif i1 == len(t2) - 1:\n",
    "                        cont[l].append(t2[i1 - 1].strip() + ' ' + t2[i1].strip())\n",
    "                    solo[l].append(t2[i1].strip())\n",
    "                l += 1\n",
    "                \n",
    "with open('passiv_samples_id_ru_en.csv', 'w', encoding='utf8', newline='') as new_file:\n",
    "    csvwriter = csv.writer(new_file, delimiter='\\t')\n",
    "    for line in cont:\n",
    "        csvwriter.writerow(line)\n",
    "        \n",
    "with open('p_id_ru_en.csv', 'w', encoding='utf8', newline='') as nf:\n",
    "    csvwriter = csv.writer(nf, delimiter='\\t')\n",
    "    for line in solo:\n",
    "        csvwriter.writerow(line)"
   ]
  },
  {
   "cell_type": "code",
   "execution_count": null,
   "id": "12f97f79",
   "metadata": {},
   "outputs": [],
   "source": []
  }
 ],
 "metadata": {
  "kernelspec": {
   "display_name": "Python 3",
   "language": "python",
   "name": "python3"
  },
  "language_info": {
   "codemirror_mode": {
    "name": "ipython",
    "version": 3
   },
   "file_extension": ".py",
   "mimetype": "text/x-python",
   "name": "python",
   "nbconvert_exporter": "python",
   "pygments_lexer": "ipython3",
   "version": "3.8.8"
  }
 },
 "nbformat": 4,
 "nbformat_minor": 5
}
